{
 "cells": [
  {
   "cell_type": "code",
   "execution_count": 1,
   "metadata": {},
   "outputs": [],
   "source": [
    "import gym\n",
    "import math\n",
    "import random\n",
    "import time\n",
    "import matplotlib\n",
    "import numpy as np\n",
    "import matplotlib.pyplot as plt\n",
    "from collections import namedtuple, deque\n",
    "from itertools import count\n",
    "\n",
    "import torch\n",
    "import torch.nn as nn\n",
    "import torch.optim as optim\n",
    "import torch.nn.functional as F\n",
    "\n",
    "env = gym.make('LunarLander-v2')\n",
    "# env = gym.make(\"LunarLander-v2\", render_mode=\"human\")\n",
    "\n",
    "# if GPU is to be used\n",
    "device = torch.device(\"cuda\" if torch.cuda.is_available() else \"cpu\")"
   ]
  },
  {
   "cell_type": "markdown",
   "metadata": {},
   "source": [
    "### Replay Memory\n"
   ]
  },
  {
   "cell_type": "code",
   "execution_count": 2,
   "metadata": {},
   "outputs": [],
   "source": [
    "class ReplayMemory(object):\n",
    "\n",
    "    def __init__(self, capacity):\n",
    "        self.memory = deque([], maxlen=capacity)\n",
    "\n",
    "    def push(self, tup):\n",
    "        \"\"\"Save a transition\"\"\"\n",
    "        self.memory.append(tup)\n",
    "\n",
    "    def sample(self, batch_size):\n",
    "        return random.sample(self.memory, batch_size)\n",
    "\n",
    "    def __len__(self):\n",
    "        return len(self.memory)"
   ]
  },
  {
   "cell_type": "code",
   "execution_count": 3,
   "metadata": {},
   "outputs": [],
   "source": [
    "class DQN(nn.Module):\n",
    "    def __init__(self, n_observations, n_actions):\n",
    "        super(DQN, self).__init__()\n",
    "        self.layer1 = nn.Linear(n_observations, 128)\n",
    "        self.layer2 = nn.Linear(128, 128)\n",
    "        self.layer3 = nn.Linear(128, n_actions)\n",
    "\n",
    "    def forward(self, x):\n",
    "        x = F.relu(self.layer1(x))\n",
    "        x = F.relu(self.layer2(x))\n",
    "        return self.layer3(x)"
   ]
  },
  {
   "cell_type": "code",
   "execution_count": 4,
   "metadata": {},
   "outputs": [],
   "source": [
    "class Trainer:\n",
    "    def __init__(self, model, learning_rate) -> None:\n",
    "        self.model : DQN = model.to(device)\n",
    "    \n",
    "        self.optimizer = optim.Adam(self.model.parameters(), lr=learning_rate)\n",
    "        self.loss_fn = nn.MSELoss().to(device)\n",
    "        # self.loss_fn = nn.SmoothL1Loss().to(device)\n",
    "\n",
    "    def predict(self, state, no_grad=False):\n",
    "        state = torch.tensor(state).to(device)\n",
    "        \n",
    "        if no_grad:\n",
    "            with torch.no_grad():\n",
    "                return self.model(state)\n",
    "        else:\n",
    "            return self.model(state)\n",
    "    \n",
    "    def train(self,y, y_):\n",
    "\n",
    "        self.optimizer.zero_grad()    \n",
    "        self.loss = self.loss_fn(y, y_).float()\n",
    "        self.loss.backward()\n",
    "        self.optimizer.step()\n",
    "        \n",
    "        return self.loss.item()\n",
    "\n"
   ]
  },
  {
   "cell_type": "code",
   "execution_count": 5,
   "metadata": {},
   "outputs": [],
   "source": [
    "class Agent:\n",
    "    def __init__(self, \n",
    "                 env:gym.Env, \n",
    "                 memory, \n",
    "                 trainer,\n",
    "                 epsilon=50.,\n",
    "                 BATCH_SIZE=128,\n",
    "                 GAMMA=0.99) -> None:\n",
    "        \n",
    "        self.env = env\n",
    "        self.memory : ReplayMemory = memory\n",
    "        self.trainer: Trainer = trainer\n",
    "\n",
    "        # parameters \n",
    "        self.epsilon = epsilon\n",
    "        self.BATCH_SIZE = BATCH_SIZE\n",
    "        self.GAMMA = GAMMA\n",
    "\n",
    "        # train parameters\n",
    "        self.LOSS = []\n",
    "        self.REWARDS = []\n",
    "        \n",
    "    \n",
    "    def replay(self):\n",
    "        # st = time.time()\n",
    "        if len(self.memory)>=self.BATCH_SIZE:\n",
    "            samples = self.memory.sample(self.BATCH_SIZE) # state, action,reward, new_state, terminated \n",
    "            \n",
    "            \n",
    "            # batch of states and new states\n",
    "            batch_state = [sample[0] for sample in samples]\n",
    "            batch_new_state = [sample[3] for sample in samples]\n",
    "          \n",
    "            batch_state = torch.tensor(batch_state)\n",
    "            batch_new_state = torch.tensor(batch_new_state)\n",
    "\n",
    "            y = self.trainer.predict(batch_state.to(device)) # y : predicted q values\n",
    "            q_values = [] # q_values :  list for estimated target q value\n",
    "            # batch prediction for next state (to improve train speed)\n",
    "            q_values_next = self.trainer.predict(batch_new_state.to(device))\n",
    "            \n",
    "            # target q value estimation\n",
    "            for  i, sample in enumerate(samples):\n",
    "                _, action,reward, _, terminated = sample\n",
    "                q_value = y[i].clone()\n",
    "                \n",
    "                if terminated:\n",
    "                    q_value[action] = reward\n",
    "                else:\n",
    "                    q_value[action] = reward + self.GAMMA*q_values_next[i].max()\n",
    "\n",
    "                q_values.append(q_value)  \n",
    "                \n",
    "        else: \n",
    "            return\n",
    "        \n",
    "        q_values = torch.stack(q_values).to(device)\n",
    "\n",
    "        loss = self.trainer.train(y, q_values) # predicted values & estimated target q values\n",
    "\n",
    "        return loss\n",
    "\n",
    "    def get_exploration_rate(self, episode, epsilon):\n",
    "     \n",
    "        \"\"\"\n",
    "        Get the exploration_rate given an episode subject to decay (epsilone)\n",
    "\n",
    "        inputs:\n",
    "        -------\n",
    "            e: a given episode\n",
    "        return:\n",
    "        -------\n",
    "            a learning or an exploration rate\n",
    "         \"\"\"\n",
    "        return max(0.1, min(1., 1. - np.log10((episode + 1) / epsilon)))\n",
    "    \n",
    "    def get_action(self, state, exploration_rate):\n",
    "        # print(exploration_rate)\n",
    "        if (np.random.random() < exploration_rate):\n",
    "            return self.env.action_space.sample()\n",
    "        else:\n",
    "        # Choose greedily the action which gives the highest expected reward\n",
    "        # given the current state\n",
    "            return torch.argmax(self.trainer.predict(state)).item()\n",
    "\n",
    "    def train(self, EPISODES):\n",
    "        for e in range(1, EPISODES+1):\n",
    "            state, _ = env.reset()\n",
    "            terminated = False\n",
    "            truncated = False\n",
    "            total_reward = 0\n",
    "            total_loss = 0\n",
    "            episode_len = 0\n",
    "            while not any([terminated, truncated]):\n",
    "                rate = self.get_exploration_rate(episode=e, epsilon=self.epsilon)\n",
    "                action = self.get_action(state, rate)\n",
    "                new_state, reward, terminated, truncated, _ = env.step(action)\n",
    "                \n",
    "                self.memory.push((state, action,reward,new_state, terminated))   \n",
    "                total_reward +=reward\n",
    "                # update old state for new step\n",
    "                state = new_state\n",
    "                # replay memory to train DQN model\n",
    "                loss = self.replay()\n",
    "                if loss != None:\n",
    "                    total_loss += loss\n",
    "                episode_len += 1\n",
    "            \n",
    "            print(f\" EPISODE {e}|{EPISODES} reward {total_reward} | loss: {total_loss}\", end=\"\\r\")\n",
    "            # print(f\" EPISODE {e}|{EPISODES} reward {total_reward} | replay time {replay_end-replay_start:.3f}\")\n",
    "                \n",
    "            if loss != None:\n",
    "                self.LOSS.append(total_loss/episode_len)\n",
    "                self.REWARDS.append(total_reward)\n",
    "                \n",
    "            if e%100==0:\n",
    "                print(f\"EPISODE {e}|{EPISODES} {total_reward} | Loss {loss}\")\n",
    "      \n",
    "        print(\"Training Ends\")\n",
    "        \n",
    "    def play(self):\n",
    "        state, _ = env.reset()\n",
    "        terminated = False\n",
    "        truncated = False\n",
    "        total_reward = 0\n",
    "        episode_len = 0\n",
    "        while not any([terminated, truncated]):\n",
    "            # action = self.get_action(state, exploration_rate=-1)\n",
    "            action = torch.argmax(self.trainer.predict(state, no_grad=True)).item()\n",
    "            state, reward, terminated, truncated, _ = env.step(action)\n",
    "            total_reward +=reward\n",
    "            episode_len += 1\n",
    "            \n",
    "        print(\"REWARD\", total_reward, \"FRAMES\", episode_len)\n"
   ]
  },
  {
   "cell_type": "code",
   "execution_count": 6,
   "metadata": {},
   "outputs": [],
   "source": [
    "trainer = Trainer(model=DQN(n_actions=env.action_space.n,n_observations=env.observation_space.shape[0]),\n",
    "                  learning_rate=0.001)"
   ]
  },
  {
   "cell_type": "code",
   "execution_count": 7,
   "metadata": {},
   "outputs": [],
   "source": [
    "agent = Agent(env=env,\n",
    "            trainer=trainer,\n",
    "            memory=ReplayMemory(10000),\n",
    "            epsilon=25.)"
   ]
  },
  {
   "cell_type": "code",
   "execution_count": null,
   "metadata": {},
   "outputs": [],
   "source": [
    "history = agent.train(110)"
   ]
  },
  {
   "cell_type": "code",
   "execution_count": null,
   "metadata": {},
   "outputs": [],
   "source": [
    "break"
   ]
  },
  {
   "cell_type": "code",
   "execution_count": null,
   "metadata": {},
   "outputs": [],
   "source": [
    "env.close()\n",
    "env = gym.make(\"LunarLander-v2\", render_mode=\"human\")\n",
    "# env = gym.make(\"LunarLander-v2\")\n",
    "agent.env = env"
   ]
  },
  {
   "cell_type": "code",
   "execution_count": 19,
   "metadata": {},
   "outputs": [
    {
     "name": "stdout",
     "output_type": "stream",
     "text": [
      "REWARD -214.61282760394843 FRAMES 589\n",
      "REWARD -192.07848424094698 FRAMES 402\n",
      "REWARD -239.56085895071865 FRAMES 792\n",
      "REWARD 272.8149173241413 FRAMES 331\n",
      "REWARD -237.49325497758775 FRAMES 781\n",
      "REWARD -154.2201873923009 FRAMES 453\n",
      "REWARD -160.86449680886406 FRAMES 533\n",
      "REWARD -112.81659454153109 FRAMES 375\n",
      "REWARD -139.15563242496688 FRAMES 567\n",
      "REWARD -177.65585118415254 FRAMES 530\n"
     ]
    }
   ],
   "source": [
    "for i in range(10):\n",
    "    agent.play()"
   ]
  },
  {
   "cell_type": "code",
   "execution_count": null,
   "metadata": {},
   "outputs": [],
   "source": [
    "env.close()"
   ]
  },
  {
   "cell_type": "code",
   "execution_count": null,
   "metadata": {},
   "outputs": [
    {
     "ename": "SyntaxError",
     "evalue": "'break' outside loop (668683560.py, line 1)",
     "output_type": "error",
     "traceback": [
      "\u001b[1;36m  Cell \u001b[1;32mIn[12], line 1\u001b[1;36m\u001b[0m\n\u001b[1;33m    break\u001b[0m\n\u001b[1;37m    ^\u001b[0m\n\u001b[1;31mSyntaxError\u001b[0m\u001b[1;31m:\u001b[0m 'break' outside loop\n"
     ]
    }
   ],
   "source": [
    "break"
   ]
  },
  {
   "cell_type": "code",
   "execution_count": 10,
   "metadata": {},
   "outputs": [
    {
     "data": {
      "text/plain": [
       "[<matplotlib.lines.Line2D at 0x222ae6b89d0>]"
      ]
     },
     "execution_count": 10,
     "metadata": {},
     "output_type": "execute_result"
    },
    {
     "data": {
      "image/png": "[encoded data removed]",
      "text/plain": [
       "<Figure size 640x480 with 1 Axes>"
      ]
     },
     "metadata": {},
     "output_type": "display_data"
    }
   ],
   "source": [
    "# plt.figure(figsize=(16,16))\n",
    "plt.plot(agent.LOSS)\n",
    "# plt.axes()"
   ]
  },
  {
   "cell_type": "code",
   "execution_count": 17,
   "metadata": {},
   "outputs": [
    {
     "data": {
      "text/plain": [
       "Text(0, 0.5, 'REWARDS')"
      ]
     },
     "execution_count": 17,
     "metadata": {},
     "output_type": "execute_result"
    },
    {
     "data": {
      "image/png": "[encoded data removed]",
      "text/plain": [
       "<Figure size 640x480 with 1 Axes>"
      ]
     },
     "metadata": {},
     "output_type": "display_data"
    }
   ],
   "source": [
    "plt.plot(agent.REWARDS)\n",
    "plt.xlabel(\"EPISODE\")\n",
    "plt.ylabel(\"REWARDS\")"
   ]
  },
  {
   "cell_type": "code",
   "execution_count": 18,
   "metadata": {},
   "outputs": [
    {
     "data": {
      "text/plain": [
       "array([[ 1.       , -0.5533535],\n",
       "       [-0.5533535,  1.       ]])"
      ]
     },
     "execution_count": 18,
     "metadata": {},
     "output_type": "execute_result"
    }
   ],
   "source": [
    "np.corrcoef(agent.LOSS, agent.REWARDS)"
   ]
  },
  {
   "cell_type": "code",
   "execution_count": null,
   "metadata": {},
   "outputs": [],
   "source": [
    "# import seaborn as sns"
   ]
  },
  {
   "cell_type": "code",
   "execution_count": null,
   "metadata": {},
   "outputs": [],
   "source": [
    "# Tensor_a = trainer.model.layer1.weight.clone()\n",
    "# Tensor_b = trainer.model.layer2.weight.clone()"
   ]
  },
  {
   "cell_type": "code",
   "execution_count": null,
   "metadata": {},
   "outputs": [],
   "source": []
  },
  {
   "cell_type": "code",
   "execution_count": null,
   "metadata": {},
   "outputs": [],
   "source": [
    "# plt.figure(figsize=(12,10))\n",
    "# sns.heatmap(Tensor_a.cpu().detach().numpy(), linewidth=0.5)"
   ]
  },
  {
   "cell_type": "code",
   "execution_count": null,
   "metadata": {},
   "outputs": [],
   "source": [
    "# plt.figure(figsize=(12,10))\n",
    "# sns.heatmap(Tensor_b.detach().cpu().numpy(), linewidth=0.5)"
   ]
  },
  {
   "cell_type": "code",
   "execution_count": null,
   "metadata": {},
   "outputs": [],
   "source": []
  },
  {
   "cell_type": "code",
   "execution_count": null,
   "metadata": {},
   "outputs": [],
   "source": [
    "torch.save(agent.trainer.model.state_dict(), f\"model/model_{int(time.time())}.pt\")"
   ]
  },
  {
   "cell_type": "code",
   "execution_count": null,
   "metadata": {},
   "outputs": [],
   "source": []
  }
 ],
 "metadata": {
  "kernelspec": {
   "display_name": "RLml",
   "language": "python",
   "name": "python3"
  },
  "language_info": {
   "codemirror_mode": {
    "name": "ipython",
    "version": 3
   },
   "file_extension": ".py",
   "mimetype": "text/x-python",
   "name": "python",
   "nbconvert_exporter": "python",
   "pygments_lexer": "ipython3",
   "version": "3.10.0"
  },
  "orig_nbformat": 4
 },
 "nbformat": 4,
 "nbformat_minor": 2
}
