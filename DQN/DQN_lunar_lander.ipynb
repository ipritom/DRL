{
 "cells": [
  {
   "cell_type": "code",
   "execution_count": 1,
   "metadata": {},
   "outputs": [],
   "source": [
    "import gym\n",
    "import math\n",
    "import random\n",
    "import time\n",
    "import matplotlib\n",
    "import numpy as np\n",
    "import matplotlib.pyplot as plt\n",
    "from collections import namedtuple, deque\n",
    "from itertools import count\n",
    "\n",
    "import torch\n",
    "import torch.nn as nn\n",
    "import torch.optim as optim\n",
    "import torch.nn.functional as F\n",
    "\n",
    "env = gym.make('LunarLander-v2')\n",
    "# env = gym.make(\"LunarLander-v2\", render_mode=\"human\")\n",
    "\n",
    "# if GPU is to be used\n",
    "device = torch.device(\"cuda\" if torch.cuda.is_available() else \"cpu\")"
   ]
  },
  {
   "cell_type": "markdown",
   "metadata": {},
   "source": [
    "### Replay Memory\n"
   ]
  },
  {
   "cell_type": "code",
   "execution_count": 2,
   "metadata": {},
   "outputs": [],
   "source": [
    "class ReplayMemory(object):\n",
    "\n",
    "    def __init__(self, capacity):\n",
    "        self.memory = deque([], maxlen=capacity)\n",
    "\n",
    "    def push(self, tup):\n",
    "        \"\"\"Save a transition\"\"\"\n",
    "        self.memory.append(tup)\n",
    "\n",
    "    def sample(self, batch_size):\n",
    "        return random.sample(self.memory, batch_size)\n",
    "\n",
    "    def __len__(self):\n",
    "        return len(self.memory)"
   ]
  },
  {
   "cell_type": "code",
   "execution_count": 3,
   "metadata": {},
   "outputs": [],
   "source": [
    "class DQN(nn.Module):\n",
    "    def __init__(self, n_observations, n_actions):\n",
    "        super(DQN, self).__init__()\n",
    "        self.layer1 = nn.Linear(n_observations, 128)\n",
    "        self.layer2 = nn.Linear(128, 128)\n",
    "        self.layer3 = nn.Linear(128, n_actions)\n",
    "\n",
    "    def forward(self, x):\n",
    "        x = F.relu(self.layer1(x))\n",
    "        x = F.relu(self.layer2(x))\n",
    "        return self.layer3(x)"
   ]
  },
  {
   "cell_type": "code",
   "execution_count": 4,
   "metadata": {},
   "outputs": [],
   "source": [
    "class Trainer:\n",
    "    def __init__(self, model, learning_rate) -> None:\n",
    "        self.model : DQN = model.to(device)\n",
    "    \n",
    "        self.optimizer = optim.Adam(self.model.parameters(), lr=learning_rate)\n",
    "        self.loss_fn = nn.MSELoss()\n",
    "        \n",
    "\n",
    "    def predict(self, state, no_grad=False):\n",
    "        state = torch.tensor(state).to(device)\n",
    "        \n",
    "        if no_grad:\n",
    "            with torch.no_grad():\n",
    "                return self.model(state)\n",
    "        else:\n",
    "            return self.model(state)\n",
    "    \n",
    "    def train(self,y, y_):\n",
    "\n",
    "        \n",
    "       \n",
    "        # print(\"---*----\")\n",
    "        # print(y.shape, y_.shape)\n",
    "        \n",
    "        # print(y[0:2])\n",
    "        # print(y_[0:2])\n",
    "        # print(\"---*----\")\n",
    "        # training step & backprop\n",
    "        self.optimizer.zero_grad()    \n",
    "        self.loss = self.loss_fn(y, y_).float()\n",
    "        self.loss.backward()\n",
    "        self.optimizer.step()\n",
    "        \n",
    "        return self.loss.item()\n",
    "\n"
   ]
  },
  {
   "cell_type": "code",
   "execution_count": 5,
   "metadata": {},
   "outputs": [],
   "source": [
    "class Agent:\n",
    "    def __init__(self, \n",
    "                 env:gym.Env, \n",
    "                 memory, \n",
    "                 trainer,\n",
    "                 epsilon=50.,\n",
    "                 BATCH_SIZE=128,\n",
    "                 GAMMA=0.99) -> None:\n",
    "        \n",
    "        self.env = env\n",
    "        self.memory : ReplayMemory = memory\n",
    "        self.trainer: Trainer = trainer\n",
    "\n",
    "        # parameters \n",
    "        self.epsilon = epsilon\n",
    "        self.BATCH_SIZE = BATCH_SIZE\n",
    "        self.GAMMA = GAMMA\n",
    "\n",
    "        self.history = {}\n",
    "        \n",
    "    \n",
    "    def replay(self):\n",
    "        # st = time.time()\n",
    "        if len(self.memory)>=self.BATCH_SIZE:\n",
    "            samples = self.memory.sample(self.BATCH_SIZE) # state, action,reward, new_state, terminated \n",
    "            \n",
    "            \n",
    "            # batch of states and new states\n",
    "            batch_state = [sample[0] for sample in samples]\n",
    "            batch_new_state = [sample[3] for sample in samples]\n",
    "          \n",
    "            batch_state = torch.tensor(batch_state)\n",
    "            batch_new_state = torch.tensor(batch_new_state)\n",
    "\n",
    "            y = self.trainer.predict(batch_state.to(device)) # y : predicted q values\n",
    "            q_values = [] # q_values :  list for estimated target q value\n",
    "            # batch prediction for next state (to improve train speed)\n",
    "            q_values_next = self.trainer.predict(batch_new_state.to(device))\n",
    "            \n",
    "            # target q value estimation\n",
    "            for  i, sample in enumerate(samples):\n",
    "                _, action,reward, _, terminated = sample\n",
    "                q_value = y[i].clone()\n",
    "                \n",
    "                if terminated:\n",
    "                    q_value[action] = reward\n",
    "                else:\n",
    "                    q_value[action] = reward + self.GAMMA*q_values_next[i].max()\n",
    "\n",
    "                q_values.append(q_value)  \n",
    "                \n",
    "        else: \n",
    "            return\n",
    "        \n",
    "        q_values = torch.stack(q_values).to(device)\n",
    "\n",
    "        loss = self.trainer.train(y, q_values) # predicted values & estimated target q values\n",
    "\n",
    "        return loss\n",
    "\n",
    "    def get_exploration_rate(self, episode, epsilon):\n",
    "     \n",
    "        \"\"\"\n",
    "        Get the exploration_rate given an episode subject to decay (epsilone)\n",
    "\n",
    "        inputs:\n",
    "        -------\n",
    "            e: a given episode\n",
    "        return:\n",
    "        -------\n",
    "            a learning or an exploration rate\n",
    "         \"\"\"\n",
    "        return max(0.1, min(1., 1. - np.log10((episode + 1) / epsilon)))\n",
    "    \n",
    "    def get_action(self, state, exploration_rate):\n",
    "        # print(exploration_rate)\n",
    "        if (np.random.random() < exploration_rate):\n",
    "            return self.env.action_space.sample()\n",
    "        else:\n",
    "        # Choose greedily the action which gives the highest expected reward\n",
    "        # given the current state\n",
    "            return torch.argmax(self.trainer.predict(state)).item()\n",
    "\n",
    "    def train(self, EPISODES):\n",
    "    \n",
    "        LOSS = []\n",
    "        episode_rewards = []\n",
    "        for e in range(1, EPISODES+1):\n",
    "            state, _ = env.reset()\n",
    "            terminated = False\n",
    "            total_reward = 0\n",
    "            \n",
    "            frame = 0\n",
    "            while not terminated:\n",
    "                rate = self.get_exploration_rate(episode=e, epsilon=self.epsilon)\n",
    "                action = self.get_action(state, rate)\n",
    "                new_state, reward, terminated, _, _ = env.step(action)\n",
    "                \n",
    "                self.memory.push((state, action,reward,new_state, terminated))   \n",
    "                total_reward +=reward\n",
    "                # update old state for new step\n",
    "                state = new_state\n",
    "\n",
    "                loss = self.replay() # replay memory to train DQN model\n",
    "                frame += 1\n",
    "                # episode end if it takes too many steps\n",
    "                if frame>250:\n",
    "                    terminated = True\n",
    "                    \n",
    "            print(f\" EPISODE {e}|{EPISODES} reward {total_reward} | loss: {loss}\", end=\"\\r\")\n",
    "            # print(f\" EPISODE {e}|{EPISODES} reward {total_reward} | replay time {replay_end-replay_start:.3f}\")\n",
    "                \n",
    "            if loss != None:\n",
    "                LOSS.append(loss)\n",
    "                episode_rewards.append(total_reward)\n",
    "                \n",
    "            if e%100==0:\n",
    "                print(f\"EPISODE {e}|{EPISODES} {total_reward} | Loss {loss}\") \n",
    "        \n",
    "        self.history[\"loss\"] = LOSS\n",
    "        self.history[\"rewards\"] = episode_rewards\n",
    "        return self.history\n",
    "        \n",
    "    def play(self):\n",
    "        state, _ = env.reset()\n",
    "        terminated = False\n",
    "        total_reward = 0\n",
    "        frame = 0\n",
    "        while not terminated:\n",
    "            # action = self.get_action(state, exploration_rate=-1)\n",
    "            action = torch.argmax(self.trainer.predict(state, no_grad=True)).item()\n",
    "            state, reward, terminated, _, _ = env.step(action)\n",
    "            total_reward +=reward\n",
    "            frame += 1\n",
    "        print(\"REWARD\", total_reward, \"FRAMES\", frame)\n"
   ]
  },
  {
   "cell_type": "code",
   "execution_count": 6,
   "metadata": {},
   "outputs": [],
   "source": [
    "trainer = Trainer(model=DQN(n_actions=env.action_space.n,n_observations=env.observation_space.shape[0]),\n",
    "                  learning_rate=0.001)"
   ]
  },
  {
   "cell_type": "code",
   "execution_count": 7,
   "metadata": {},
   "outputs": [],
   "source": [
    "cart_pole_agent = Agent(env=env,\n",
    "                        trainer=trainer,\n",
    "                        memory=ReplayMemory(1000),\n",
    "                        epsilon=25.)"
   ]
  },
  {
   "cell_type": "code",
   "execution_count": 8,
   "metadata": {},
   "outputs": [
    {
     "name": "stderr",
     "output_type": "stream",
     "text": [
      "c:\\Users\\pritom52251.WHILDC\\AppData\\Local\\miniconda3\\envs\\RLml\\lib\\site-packages\\gym\\utils\\passive_env_checker.py:233: DeprecationWarning: `np.bool8` is a deprecated alias for `np.bool_`.  (Deprecated NumPy 1.24)\n",
      "  if not isinstance(terminated, (bool, np.bool8)):\n",
      "C:\\Users\\pritom52251.WHILDC\\AppData\\Local\\Temp\\ipykernel_15788\\3346664287.py:32: UserWarning: Creating a tensor from a list of numpy.ndarrays is extremely slow. Please consider converting the list to a single numpy.ndarray with numpy.array() before converting to a tensor. (Triggered internally at C:\\cb\\pytorch_1000000000000\\work\\torch\\csrc\\utils\\tensor_new.cpp:264.)\n",
      "  batch_state = torch.tensor(batch_state)\n",
      "C:\\Users\\pritom52251.WHILDC\\AppData\\Local\\Temp\\ipykernel_15788\\1509033004.py:10: UserWarning: To copy construct from a tensor, it is recommended to use sourceTensor.clone().detach() or sourceTensor.clone().detach().requires_grad_(True), rather than torch.tensor(sourceTensor).\n",
      "  state = torch.tensor(state).to(device)\n"
     ]
    },
    {
     "name": "stdout",
     "output_type": "stream",
     "text": [
      "EPISODE 100|130 -66.73486493364022 | Loss 0.17987611889839172889839172\n",
      " EPISODE 130|130 reward 15.969930662932882 | loss: 0.169166743755340585\r"
     ]
    }
   ],
   "source": [
    "history = cart_pole_agent.train(130)"
   ]
  },
  {
   "cell_type": "code",
   "execution_count": 23,
   "metadata": {},
   "outputs": [],
   "source": [
    "env.close()\n",
    "env = gym.make(\"LunarLander-v2\", render_mode=\"human\")\n",
    "# env = gym.make(\"LunarLander-v2\")\n",
    "cart_pole_agent.env = env"
   ]
  },
  {
   "cell_type": "code",
   "execution_count": 24,
   "metadata": {},
   "outputs": [
    {
     "name": "stdout",
     "output_type": "stream",
     "text": [
      "REWARD 29.349295435012607 FRAMES 100\n",
      "REWARD -12.582932067918051 FRAMES 122\n",
      "REWARD 49.81772237007101 FRAMES 120\n",
      "REWARD 3.2402219360657654 FRAMES 109\n",
      "REWARD -13.288835659960824 FRAMES 133\n",
      "REWARD -80.59967248454534 FRAMES 100\n",
      "REWARD 226.7210926702901 FRAMES 159\n",
      "REWARD 157.69520435669602 FRAMES 3990\n",
      "REWARD 23.424917068568632 FRAMES 111\n",
      "REWARD -229.5163795686246 FRAMES 112\n"
     ]
    }
   ],
   "source": [
    "for i in range(10):\n",
    "    cart_pole_agent.play()"
   ]
  },
  {
   "cell_type": "code",
   "execution_count": 11,
   "metadata": {},
   "outputs": [],
   "source": [
    "env.close()"
   ]
  },
  {
   "cell_type": "code",
   "execution_count": 12,
   "metadata": {},
   "outputs": [],
   "source": [
    "# break"
   ]
  },
  {
   "cell_type": "code",
   "execution_count": 13,
   "metadata": {},
   "outputs": [
    {
     "data": {
      "text/plain": [
       "[<matplotlib.lines.Line2D at 0x2573f8c9990>]"
      ]
     },
     "execution_count": 13,
     "metadata": {},
     "output_type": "execute_result"
    },
    {
     "data": {
      "image/png": "[encoded data removed]",
      "text/plain": [
       "<Figure size 640x480 with 1 Axes>"
      ]
     },
     "metadata": {},
     "output_type": "display_data"
    }
   ],
   "source": [
    "# plt.figure(figsize=(16,16))\n",
    "plt.plot(history[\"loss\"])\n",
    "# plt.axes()"
   ]
  },
  {
   "cell_type": "code",
   "execution_count": 14,
   "metadata": {},
   "outputs": [
    {
     "data": {
      "text/plain": [
       "[<matplotlib.lines.Line2D at 0x2577fbb6230>]"
      ]
     },
     "execution_count": 14,
     "metadata": {},
     "output_type": "execute_result"
    },
    {
     "data": {
      "image/png": "[encoded data removed]",
      "text/plain": [
       "<Figure size 640x480 with 1 Axes>"
      ]
     },
     "metadata": {},
     "output_type": "display_data"
    }
   ],
   "source": [
    "plt.plot(history[\"rewards\"])"
   ]
  },
  {
   "cell_type": "code",
   "execution_count": 15,
   "metadata": {},
   "outputs": [],
   "source": [
    "# import seaborn as sns"
   ]
  },
  {
   "cell_type": "code",
   "execution_count": 16,
   "metadata": {},
   "outputs": [],
   "source": [
    "# Tensor_a = trainer.model.layer1.weight.clone()\n",
    "# Tensor_b = trainer.model.layer2.weight.clone()"
   ]
  },
  {
   "cell_type": "code",
   "execution_count": null,
   "metadata": {},
   "outputs": [],
   "source": []
  },
  {
   "cell_type": "code",
   "execution_count": 17,
   "metadata": {},
   "outputs": [],
   "source": [
    "# plt.figure(figsize=(12,10))\n",
    "# sns.heatmap(Tensor_a.detach().numpy(), linewidth=0.5)"
   ]
  },
  {
   "cell_type": "code",
   "execution_count": 18,
   "metadata": {},
   "outputs": [],
   "source": [
    "# plt.figure(figsize=(12,10))\n",
    "# sns.heatmap(Tensor_b.detach().numpy(), linewidth=0.5)"
   ]
  },
  {
   "cell_type": "code",
   "execution_count": 25,
   "metadata": {},
   "outputs": [
    {
     "name": "stdout",
     "output_type": "stream",
     "text": [
      "Package                       Version\n",
      "----------------------------- ---------\n",
      "arrow                         1.2.3\n",
      "asttokens                     2.2.1\n",
      "async-lru                     2.0.4\n",
      "Babel                         2.12.1\n",
      "backcall                      0.2.0\n",
      "backports.functools-lru-cache 1.6.5\n",
      "box2d-py                      2.3.8\n",
      "brotlipy                      0.7.0\n",
      "certifi                       2023.7.22\n",
      "cffi                          1.15.1\n",
      "charset-normalizer            2.0.4\n",
      "cloudpickle                   2.2.1\n",
      "colorama                      0.4.6\n",
      "comm                          0.1.4\n",
      "contourpy                     1.1.0\n",
      "cryptography                  41.0.3\n",
      "cycler                        0.11.0\n",
      "debugpy                       1.6.8\n",
      "decorator                     5.1.1\n",
      "exceptiongroup                1.0.4\n",
      "executing                     1.2.0\n",
      "filelock                      3.9.0\n",
      "fonttools                     4.42.1\n",
      "fqdn                          1.5.1\n",
      "gym                           0.26.1\n",
      "gym-notices                   0.0.8\n",
      "idna                          3.4\n",
      "importlib-metadata            6.8.0\n",
      "ipykernel                     6.25.1\n",
      "ipython                       8.15.0\n",
      "isoduration                   20.11.0\n",
      "jedi                          0.19.0\n",
      "Jinja2                        3.1.2\n",
      "jsonpointer                   2.4\n",
      "jsonschema                    4.19.0\n",
      "jupyter_client                8.3.1\n",
      "jupyter_core                  5.3.1\n",
      "jupyter-events                0.7.0\n",
      "jupyter-lsp                   2.2.0\n",
      "jupyter_server                2.7.3\n",
      "jupyter_server_terminals      0.4.4\n",
      "jupyterlab                    4.0.5\n",
      "jupyterlab_server             2.24.0\n",
      "kiwisolver                    1.4.5\n",
      "MarkupSafe                    2.1.1\n",
      "matplotlib                    3.8.0\n",
      "matplotlib-inline             0.1.6\n",
      "mkl-fft                       1.3.8\n",
      "mkl-random                    1.2.4\n",
      "mkl-service                   2.4.0\n",
      "mpmath                        1.3.0\n",
      "nest-asyncio                  1.5.6\n",
      "networkx                      3.1\n",
      "numpy                         1.26.0\n",
      "overrides                     7.4.0\n",
      "packaging                     23.1\n",
      "pandas                        2.1.0\n",
      "parso                         0.8.3\n",
      "pickleshare                   0.7.5\n",
      "Pillow                        10.0.1\n",
      "pip                           23.2.1\n",
      "platformdirs                  3.10.0\n",
      "prompt-toolkit                3.0.39\n",
      "psutil                        5.9.5\n",
      "pure-eval                     0.2.2\n",
      "pycparser                     2.21\n",
      "pygame                        2.1.3\n",
      "Pygments                      2.16.1\n",
      "pyOpenSSL                     23.2.0\n",
      "pyparsing                     3.0.9\n",
      "PySocks                       1.7.1\n",
      "python-dateutil               2.8.2\n",
      "python-json-logger            2.0.7\n",
      "pytz                          2023.3\n",
      "pywin32                       305.1\n",
      "PyYAML                        6.0.1\n",
      "pyzmq                         25.1.1\n",
      "requests                      2.31.0\n",
      "seaborn                       0.12.2\n",
      "setuptools                    68.0.0\n",
      "six                           1.16.0\n",
      "stack-data                    0.6.2\n",
      "sympy                         1.11.1\n",
      "torch                         2.1.0\n",
      "torchaudio                    2.1.0\n",
      "torchvision                   0.15.2a0\n",
      "tornado                       6.3.3\n",
      "traitlets                     5.9.0\n",
      "typing_extensions             4.7.1\n",
      "tzdata                        2023.3\n",
      "urllib3                       1.26.16\n",
      "wcwidth                       0.2.6\n",
      "wheel                         0.41.2\n",
      "win-inet-pton                 1.1.0\n",
      "zipp                          3.16.2\n"
     ]
    }
   ],
   "source": [
    "!pip list"
   ]
  },
  {
   "cell_type": "code",
   "execution_count": null,
   "metadata": {},
   "outputs": [],
   "source": []
  }
 ],
 "metadata": {
  "kernelspec": {
   "display_name": "RLml",
   "language": "python",
   "name": "python3"
  },
  "language_info": {
   "codemirror_mode": {
    "name": "ipython",
    "version": 3
   },
   "file_extension": ".py",
   "mimetype": "text/x-python",
   "name": "python",
   "nbconvert_exporter": "python",
   "pygments_lexer": "ipython3",
   "version": "3.10.0"
  },
  "orig_nbformat": 4
 },
 "nbformat": 4,
 "nbformat_minor": 2
}
